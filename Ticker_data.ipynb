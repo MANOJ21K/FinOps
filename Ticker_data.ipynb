{
 "cells": [
  {
   "cell_type": "code",
   "execution_count": null,
   "id": "f741c25a-3f57-4ee6-8b13-d9687d83dbd0",
   "metadata": {},
   "outputs": [],
   "source": [
    "#importing libraries\n",
    "import pandas as pd\n",
    "import yfinance as yf\n",
    "\n",
    "\n",
    "#providing the timeframe\n",
    "start = \"2014-10-01\"\n",
    "end = \"2022-11-31\"\n",
    "\n",
    "#ticker name\n",
    "ticker = 'MSFT'\n",
    "\n",
    "yf.download(ticker)"
   ]
  },
  {
   "cell_type": "markdown",
   "id": "28549fde-37ae-44e5-b9d8-de991a0f74c9",
   "metadata": {},
   "source": [
    "**Solving above query or issue below**"
   ]
  },
  {
   "cell_type": "code",
   "execution_count": null,
   "id": "2153cd4d-57c0-4253-83d5-67e0595be9f5",
   "metadata": {},
   "outputs": [],
   "source": [
    "!pip install finnhub-python"
   ]
  },
  {
   "cell_type": "code",
   "execution_count": 3,
   "id": "fd46c625-98c9-4b1b-b87a-2de64c40e890",
   "metadata": {},
   "outputs": [],
   "source": [
    "import finnhub\n",
    "\n",
    "# Setup client\n",
    "finnhub_client = finnhub.Client(api_key=\"\")"
   ]
  },
  {
   "cell_type": "code",
   "execution_count": 5,
   "id": "2eaa5466-e80b-4417-8f20-f98c66f19b68",
   "metadata": {},
   "outputs": [
    {
     "name": "stderr",
     "output_type": "stream",
     "text": [
      "C:\\Users\\ManojKumar\\AppData\\Local\\Temp\\ipykernel_12336\\632489666.py:9: UserWarning: Parsing dates in DD/MM/YYYY format when dayfirst=False (the default) was specified. This may lead to inconsistently parsed dates! Specify a format to ensure consistent parsing.\n",
      "  end_timestamp = pd.Timestamp(date_end).timestamp()\n"
     ]
    },
    {
     "data": {
      "text/html": [
       "<div>\n",
       "<style scoped>\n",
       "    .dataframe tbody tr th:only-of-type {\n",
       "        vertical-align: middle;\n",
       "    }\n",
       "\n",
       "    .dataframe tbody tr th {\n",
       "        vertical-align: top;\n",
       "    }\n",
       "\n",
       "    .dataframe thead th {\n",
       "        text-align: right;\n",
       "    }\n",
       "</style>\n",
       "<table border=\"1\" class=\"dataframe\">\n",
       "  <thead>\n",
       "    <tr style=\"text-align: right;\">\n",
       "      <th></th>\n",
       "      <th>Symbol</th>\n",
       "      <th>Date</th>\n",
       "      <th>Open</th>\n",
       "      <th>High</th>\n",
       "      <th>Low</th>\n",
       "      <th>Close</th>\n",
       "      <th>Volume</th>\n",
       "    </tr>\n",
       "  </thead>\n",
       "  <tbody>\n",
       "    <tr>\n",
       "      <th>0</th>\n",
       "      <td>GE</td>\n",
       "      <td>2015-01-02</td>\n",
       "      <td>118.704762</td>\n",
       "      <td>119.266823</td>\n",
       "      <td>116.503357</td>\n",
       "      <td>117.393286</td>\n",
       "      <td>6.552443e+06</td>\n",
       "    </tr>\n",
       "    <tr>\n",
       "      <th>1</th>\n",
       "      <td>GE</td>\n",
       "      <td>2015-01-05</td>\n",
       "      <td>117.159094</td>\n",
       "      <td>117.159094</td>\n",
       "      <td>114.863388</td>\n",
       "      <td>115.238095</td>\n",
       "      <td>6.730565e+06</td>\n",
       "    </tr>\n",
       "    <tr>\n",
       "      <th>2</th>\n",
       "      <td>GE</td>\n",
       "      <td>2015-01-06</td>\n",
       "      <td>114.582358</td>\n",
       "      <td>115.097580</td>\n",
       "      <td>112.099922</td>\n",
       "      <td>112.755660</td>\n",
       "      <td>1.020956e+07</td>\n",
       "    </tr>\n",
       "    <tr>\n",
       "      <th>3</th>\n",
       "      <td>GE</td>\n",
       "      <td>2015-01-07</td>\n",
       "      <td>113.411397</td>\n",
       "      <td>114.254489</td>\n",
       "      <td>112.334114</td>\n",
       "      <td>112.802498</td>\n",
       "      <td>6.988251e+06</td>\n",
       "    </tr>\n",
       "    <tr>\n",
       "      <th>4</th>\n",
       "      <td>GE</td>\n",
       "      <td>2015-01-08</td>\n",
       "      <td>113.926620</td>\n",
       "      <td>114.207650</td>\n",
       "      <td>113.036690</td>\n",
       "      <td>114.160812</td>\n",
       "      <td>6.921305e+06</td>\n",
       "    </tr>\n",
       "  </tbody>\n",
       "</table>\n",
       "</div>"
      ],
      "text/plain": [
       "  Symbol        Date        Open        High         Low       Close  \\\n",
       "0     GE  2015-01-02  118.704762  119.266823  116.503357  117.393286   \n",
       "1     GE  2015-01-05  117.159094  117.159094  114.863388  115.238095   \n",
       "2     GE  2015-01-06  114.582358  115.097580  112.099922  112.755660   \n",
       "3     GE  2015-01-07  113.411397  114.254489  112.334114  112.802498   \n",
       "4     GE  2015-01-08  113.926620  114.207650  113.036690  114.160812   \n",
       "\n",
       "         Volume  \n",
       "0  6.552443e+06  \n",
       "1  6.730565e+06  \n",
       "2  1.020956e+07  \n",
       "3  6.988251e+06  \n",
       "4  6.921305e+06  "
      ]
     },
     "execution_count": 5,
     "metadata": {},
     "output_type": "execute_result"
    }
   ],
   "source": [
    "import finnhub\n",
    "\n",
    "# Setup client\n",
    "finnhub_client = finnhub.Client(api_key=\" \")\n",
    "\n",
    "def daily_data(Symbol, date_start, date_end):\n",
    "    #converting date to int format\n",
    "    start_timestamp = pd.Timestamp(date_start).timestamp()\n",
    "    end_timestamp = pd.Timestamp(date_end).timestamp()\n",
    "    start_date =int(start_timestamp)\n",
    "    end_date =  int(end_timestamp)\n",
    "\n",
    "    #reading it into dataframe\n",
    "    Data = pd.DataFrame(finnhub_client.stock_candles(Symbol, \"D\", start_date, end_date))\n",
    "    Data = Data[['c', 'h', 'l', 'o', 't', 'v']]\n",
    "    Data.columns = ['Close', 'High', 'Low', 'Open', 'Date', 'Volume']\n",
    "    Data['Date'] = Data['Date'].map(lambda x: pd.to_datetime(x, unit='s').date())\n",
    "    Data['Symbol'] = Symbol\n",
    "    Data = Data[['Symbol', 'Date', 'Open', 'High', 'Low', 'Close', 'Volume']]\n",
    "    return Data\n",
    "\n",
    "\n",
    "Symbol = \"GE\"\n",
    "date_start = \"Jan 01 2015\"\n",
    "date_end = \"30 12 2020\"\n",
    "\n",
    "#calling the function \n",
    "Data = daily_data(Symbol, date_start, date_end)\n",
    "\n",
    "Data.head()"
   ]
  },
  {
   "cell_type": "code",
   "execution_count": 6,
   "id": "fd561c6f-3d9f-4437-9dbe-6536906b526a",
   "metadata": {},
   "outputs": [
    {
     "data": {
      "text/plain": [
       "Symbol    0\n",
       "Date      0\n",
       "Open      0\n",
       "High      0\n",
       "Low       0\n",
       "Close     0\n",
       "Volume    0\n",
       "dtype: int64"
      ]
     },
     "execution_count": 6,
     "metadata": {},
     "output_type": "execute_result"
    }
   ],
   "source": [
    "Data.isnull().sum()"
   ]
  },
  {
   "cell_type": "markdown",
   "id": "db494fa8",
   "metadata": {},
   "source": [
    "**Obtaining multiple ticker data**"
   ]
  },
  {
   "cell_type": "code",
   "execution_count": null,
   "id": "3c1cac78-f8ff-489a-a35b-9410bb15c6d8",
   "metadata": {},
   "outputs": [],
   "source": [
    "def daily_data(symbols, date_start, date_end):\n",
    "    data_list = []  # List to store data for multiple symbols\n",
    "    \n",
    "    # Converting date to int format\n",
    "    start_timestamp = pd.Timestamp(date_start).timestamp()\n",
    "    end_timestamp = pd.Timestamp(date_end).timestamp()\n",
    "    start_date = int(start_timestamp)\n",
    "    end_date = int(end_timestamp)\n",
    "\n",
    "    for symbol in symbols:\n",
    "        # Reading data for each symbol into a dataframe\n",
    "        data = pd.DataFrame(finnhub_client.stock_candles(symbol, \"D\", start_date, end_date))\n",
    "        data = data[['c', 'h', 'l', 'o', 't', 'v']]\n",
    "        data.columns = ['Close', 'High', 'Low', 'Open', 'Date', 'Volume']\n",
    "        data['Date'] = data['Date'].map(lambda x: pd.to_datetime(x, unit='s').date())\n",
    "        data['Symbol'] = symbol\n",
    "        data = data[['Symbol', 'Date', 'Open', 'High', 'Low', 'Close', 'Volume']]\n",
    "        \n",
    "        # Appending the symbol's data to the list\n",
    "        data_list.append(data)\n",
    "    \n",
    "    # Combining data for all symbols into a single dataframe\n",
    "    combined_data = pd.concat(data_list)\n",
    "    \n",
    "    return combined_data\n",
    "\n",
    "\n",
    "symbols = ['BAC', 'C', 'GS', 'JPM','MS', 'WFC' ]  # Example list of symbols\n",
    "start_date = '2006-01-01'\n",
    "end_date = '2023-01-01'\n",
    "\n",
    "result = daily_data(symbols, start_date, end_date)\n",
    "\n",
    "\n",
    "# Pivot the DataFrame\n",
    "pivot_df = result.pivot_table(index='Date', columns='Symbol')\n",
    "pivot_df = pivot_df.swaplevel(axis=1)\n",
    "pivot_df = pivot_df.sort_index(axis=1)\n",
    "pivot_df"
   ]
  },
  {
   "cell_type": "code",
   "execution_count": 108,
   "id": "05e2edf3-74b6-4f11-b85f-fe0a4976b45d",
   "metadata": {},
   "outputs": [
    {
     "name": "stderr",
     "output_type": "stream",
     "text": [
      "UsageError: Line magic function `%matplotlib.inline` not found.\n"
     ]
    }
   ],
   "source": [
    "import seaborn as sns\n",
    "%matplotlib.inline"
   ]
  },
  {
   "cell_type": "code",
   "execution_count": 109,
   "id": "a82c2f19-c35a-4264-9b7a-cc47122e6543",
   "metadata": {},
   "outputs": [
    {
     "data": {
      "text/plain": [
       "<AxesSubplot:xlabel='Date', ylabel='Close'>"
      ]
     },
     "execution_count": 109,
     "metadata": {},
     "output_type": "execute_result"
    },
    {
     "data": {
      "image/png": "[encoded data removed]",
      "text/plain": [
       "<Figure size 640x480 with 1 Axes>"
      ]
     },
     "metadata": {},
     "output_type": "display_data"
    }
   ],
   "source": [
    "sns.lineplot(x='Date', y='Close', data=Data, label=Symbol)"
   ]
  },
  {
   "cell_type": "markdown",
   "id": "a7784f8d-e0e9-4a41-9b28-edd1af7f58f6",
   "metadata": {},
   "source": [
    "**Normalizing the Value to 100**"
   ]
  },
  {
   "cell_type": "code",
   "execution_count": 110,
   "id": "bc2fcca8-6c1e-4a48-8ec8-27961a9897a2",
   "metadata": {},
   "outputs": [
    {
     "data": {
      "text/plain": [
       "117.39328649492583"
      ]
     },
     "execution_count": 110,
     "metadata": {},
     "output_type": "execute_result"
    }
   ],
   "source": [
    "Data['Close'].iloc[0]"
   ]
  },
  {
   "cell_type": "code",
   "execution_count": 113,
   "id": "7c6775b6-5d9f-4d80-9e0c-43c63b1df7be",
   "metadata": {},
   "outputs": [
    {
     "name": "stderr",
     "output_type": "stream",
     "text": [
      "C:\\Users\\ManojKumar\\AppData\\Local\\Temp\\ipykernel_9592\\3351806966.py:3: SettingWithCopyWarning: \n",
      "A value is trying to be set on a copy of a slice from a DataFrame.\n",
      "Try using .loc[row_indexer,col_indexer] = value instead\n",
      "\n",
      "See the caveats in the documentation: https://pandas.pydata.org/pandas-docs/stable/user_guide/indexing.html#returning-a-view-versus-a-copy\n",
      "  Norm['Normalised'] = Data['Close'].div(Data['Close'].iloc[0]).mul(100)\n"
     ]
    }
   ],
   "source": [
    "#normalized closing price of share by dividing the each day price with the first price or starting price\n",
    "Norm = Data[['Date','Close']]\n",
    "Norm['Normalised'] = Data['Close'].div(Data['Close'].iloc[0]).mul(100)"
   ]
  },
  {
   "cell_type": "code",
   "execution_count": 115,
   "id": "f055c979-c996-4e0d-8f01-bd69ae70245a",
   "metadata": {},
   "outputs": [
    {
     "data": {
      "text/plain": [
       "<AxesSubplot:xlabel='Date', ylabel='Normalised'>"
      ]
     },
     "execution_count": 115,
     "metadata": {},
     "output_type": "execute_result"
    },
    {
     "data": {
      "image/png": "[encoded data removed]",
      "text/plain": [
       "<Figure size 640x480 with 1 Axes>"
      ]
     },
     "metadata": {},
     "output_type": "display_data"
    }
   ],
   "source": [
    "sns.lineplot(x='Date',y='Normalised', data=Norm)"
   ]
  },
  {
   "cell_type": "code",
   "execution_count": null,
   "id": "27bd6aac",
   "metadata": {},
   "outputs": [],
   "source": []
  }
 ],
 "metadata": {
  "kernelspec": {
   "display_name": "Python 3 (ipykernel)",
   "language": "python",
   "name": "python3"
  },
  "language_info": {
   "codemirror_mode": {
    "name": "ipython",
    "version": 3
   },
   "file_extension": ".py",
   "mimetype": "text/x-python",
   "name": "python",
   "nbconvert_exporter": "python",
   "pygments_lexer": "ipython3",
   "version": "3.9.13"
  }
 },
 "nbformat": 4,
 "nbformat_minor": 5
}
